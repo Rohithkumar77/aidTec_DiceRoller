{
 "cells": [
  {
   "cell_type": "markdown",
   "id": "171072f7",
   "metadata": {},
   "source": [
    "# Task 3: Dice Roller"
   ]
  },
  {
   "cell_type": "code",
   "execution_count": 4,
   "id": "bfbd03cb",
   "metadata": {},
   "outputs": [
    {
     "name": "stdout",
     "output_type": "stream",
     "text": [
      "1. Roll the dice\n",
      "2. Quit\n",
      "Enter your choice (1-2): 1\n",
      "Enter the number of dice to roll: 1\n",
      "Rolling the dice...\n",
      "Dice rolls: [5]\n",
      "1. Roll the dice\n",
      "2. Quit\n",
      "Enter your choice (1-2): 1\n",
      "Enter the number of dice to roll: 2\n",
      "Rolling the dice...\n",
      "Dice rolls: [2, 4]\n",
      "1. Roll the dice\n",
      "2. Quit\n",
      "Enter your choice (1-2): 1\n",
      "Enter the number of dice to roll: 3\n",
      "Rolling the dice...\n",
      "Dice rolls: [6, 1, 3]\n",
      "1. Roll the dice\n",
      "2. Quit\n",
      "Enter your choice (1-2): 1\n",
      "Enter the number of dice to roll: 4\n",
      "Rolling the dice...\n",
      "Dice rolls: [2, 6, 2, 4]\n",
      "1. Roll the dice\n",
      "2. Quit\n",
      "Enter your choice (1-2): 1\n",
      "Enter the number of dice to roll: 5\n",
      "Rolling the dice...\n",
      "Dice rolls: [1, 3, 6, 2, 6]\n",
      "1. Roll the dice\n",
      "2. Quit\n",
      "Enter your choice (1-2): 2\n"
     ]
    }
   ],
   "source": [
    "import random\n",
    "\n",
    "def roll_dice():\n",
    "    num_dice = int(input(\"Enter the number of dice to roll: \"))\n",
    "    print(\"Rolling the dice...\")\n",
    "\n",
    "    rolls = []\n",
    "    for _ in range(num_dice):\n",
    "        roll = random.randint(1, 6)\n",
    "        rolls.append(roll)\n",
    "\n",
    "    print(\"Dice rolls:\", rolls)\n",
    "\n",
    "while True:\n",
    "    print(\"1. Roll the dice\")\n",
    "    print(\"2. Quit\")\n",
    "\n",
    "    choice = input(\"Enter your choice (1-2): \")\n",
    "\n",
    "    if choice == '1':\n",
    "        roll_dice()\n",
    "\n",
    "    elif choice == '2':\n",
    "        break\n",
    "\n",
    "    else:\n",
    "        print(\"Invalid choice. Please try again.\")\n"
   ]
  },
  {
   "cell_type": "code",
   "execution_count": null,
   "id": "6d57e8b0",
   "metadata": {},
   "outputs": [],
   "source": []
  }
 ],
 "metadata": {
  "kernelspec": {
   "display_name": "Python 3 (ipykernel)",
   "language": "python",
   "name": "python3"
  },
  "language_info": {
   "codemirror_mode": {
    "name": "ipython",
    "version": 3
   },
   "file_extension": ".py",
   "mimetype": "text/x-python",
   "name": "python",
   "nbconvert_exporter": "python",
   "pygments_lexer": "ipython3",
   "version": "3.10.9"
  }
 },
 "nbformat": 4,
 "nbformat_minor": 5
}
